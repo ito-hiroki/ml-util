{
 "cells": [
  {
   "cell_type": "code",
   "execution_count": 1,
   "metadata": {},
   "outputs": [],
   "source": [
    "# Libraries\n",
    "import numpy as np\n",
    "import pandas as pd\n",
    "import matplotlib.pyplot as plt\n",
    "import seaborn as sns\n",
    "# $matplotlib --listでoptionを表示\n",
    "#%matplotlib inline\n",
    "%matplotlib inline\n",
    "\n",
    "import datetime\n",
    "import os\n",
    "\n",
    "from tqdm import tqdm_notebook\n",
    "\n",
    "import warnings\n",
    "warnings.filterwarnings('ignore')\n",
    "import gc"
   ]
  },
  {
   "cell_type": "code",
   "execution_count": 2,
   "metadata": {},
   "outputs": [],
   "source": [
    "from sklearn.linear_model import LogisticRegression\n",
    "from sklearn.preprocessing import StandardScaler\n",
    "from sklearn.model_selection import KFold\n",
    "from sklearn.model_selection import train_test_split"
   ]
  },
  {
   "cell_type": "code",
   "execution_count": 3,
   "metadata": {},
   "outputs": [
    {
     "data": {
      "text/html": [
       "<div>\n",
       "<style scoped>\n",
       "    .dataframe tbody tr th:only-of-type {\n",
       "        vertical-align: middle;\n",
       "    }\n",
       "\n",
       "    .dataframe tbody tr th {\n",
       "        vertical-align: top;\n",
       "    }\n",
       "\n",
       "    .dataframe thead th {\n",
       "        text-align: right;\n",
       "    }\n",
       "</style>\n",
       "<table border=\"1\" class=\"dataframe\">\n",
       "  <thead>\n",
       "    <tr style=\"text-align: right;\">\n",
       "      <th></th>\n",
       "      <th>sepal length (cm)</th>\n",
       "      <th>sepal width (cm)</th>\n",
       "      <th>petal length (cm)</th>\n",
       "      <th>petal width (cm)</th>\n",
       "      <th>target</th>\n",
       "    </tr>\n",
       "  </thead>\n",
       "  <tbody>\n",
       "    <tr>\n",
       "      <th>0</th>\n",
       "      <td>5.1</td>\n",
       "      <td>3.5</td>\n",
       "      <td>1.4</td>\n",
       "      <td>0.2</td>\n",
       "      <td>0</td>\n",
       "    </tr>\n",
       "    <tr>\n",
       "      <th>1</th>\n",
       "      <td>4.9</td>\n",
       "      <td>3.0</td>\n",
       "      <td>1.4</td>\n",
       "      <td>0.2</td>\n",
       "      <td>0</td>\n",
       "    </tr>\n",
       "    <tr>\n",
       "      <th>2</th>\n",
       "      <td>4.7</td>\n",
       "      <td>3.2</td>\n",
       "      <td>1.3</td>\n",
       "      <td>0.2</td>\n",
       "      <td>0</td>\n",
       "    </tr>\n",
       "    <tr>\n",
       "      <th>3</th>\n",
       "      <td>4.6</td>\n",
       "      <td>3.1</td>\n",
       "      <td>1.5</td>\n",
       "      <td>0.2</td>\n",
       "      <td>0</td>\n",
       "    </tr>\n",
       "    <tr>\n",
       "      <th>4</th>\n",
       "      <td>5.0</td>\n",
       "      <td>3.6</td>\n",
       "      <td>1.4</td>\n",
       "      <td>0.2</td>\n",
       "      <td>0</td>\n",
       "    </tr>\n",
       "  </tbody>\n",
       "</table>\n",
       "</div>"
      ],
      "text/plain": [
       "   sepal length (cm)  sepal width (cm)  petal length (cm)  petal width (cm)  \\\n",
       "0                5.1               3.5                1.4               0.2   \n",
       "1                4.9               3.0                1.4               0.2   \n",
       "2                4.7               3.2                1.3               0.2   \n",
       "3                4.6               3.1                1.5               0.2   \n",
       "4                5.0               3.6                1.4               0.2   \n",
       "\n",
       "   target  \n",
       "0       0  \n",
       "1       0  \n",
       "2       0  \n",
       "3       0  \n",
       "4       0  "
      ]
     },
     "execution_count": 3,
     "metadata": {},
     "output_type": "execute_result"
    }
   ],
   "source": [
    "from sklearn.datasets import load_iris\n",
    "iris_data = load_iris()\n",
    "iris_df = pd.DataFrame(data=iris_data.data, columns=iris_data.feature_names)\n",
    "iris_df[\"target\"] = iris_data.target\n",
    "iris_df.head()"
   ]
  },
  {
   "cell_type": "code",
   "execution_count": 4,
   "metadata": {},
   "outputs": [],
   "source": [
    "X_name = list(iris_df.columns.values[:4])\n",
    "Y_name = iris_df.columns.values[4]"
   ]
  },
  {
   "cell_type": "code",
   "execution_count": 5,
   "metadata": {},
   "outputs": [],
   "source": [
    "X_train, X_test, Y_train, Y_test = train_test_split(iris_df[X_name].values, iris_df[Y_name].values,\n",
    "                                                   test_size=0.2, random_state=18461)"
   ]
  },
  {
   "cell_type": "markdown",
   "metadata": {},
   "source": [
    "# スケーリング\n",
    "sklearnだと  \n",
    "\n",
    "* standard scaler  \n",
    "* robust scaler  \n",
    "* min-max scaler  \n",
    "\n",
    "があるっぽい  "
   ]
  },
  {
   "cell_type": "code",
   "execution_count": 6,
   "metadata": {},
   "outputs": [],
   "source": [
    "s_scaler = StandardScaler()"
   ]
  },
  {
   "cell_type": "code",
   "execution_count": 7,
   "metadata": {},
   "outputs": [],
   "source": [
    "X_train = s_scaler.fit_transform(X_train)\n",
    "X_test = s_scaler.transform(X_test)"
   ]
  },
  {
   "cell_type": "markdown",
   "metadata": {},
   "source": [
    "# Logistic Regression"
   ]
  },
  {
   "cell_type": "code",
   "execution_count": 8,
   "metadata": {},
   "outputs": [],
   "source": [
    "kfold = KFold(n_splits=5)"
   ]
  },
  {
   "cell_type": "code",
   "execution_count": 9,
   "metadata": {},
   "outputs": [
    {
     "name": "stdout",
     "output_type": "stream",
     "text": [
      "Fold 0\n",
      "Fold 1\n",
      "Fold 2\n",
      "Fold 3\n",
      "Fold 4\n"
     ]
    }
   ],
   "source": [
    "oof = np.zeros((len(X_train), 3))\n",
    "predictions = np.zeros((5, len(X_test), 3))\n",
    "\n",
    "for fold_, (trn_idx, val_idx) in enumerate(kfold.split(X_train, X_train)):\n",
    "    print(\"Fold {}\".format(fold_))\n",
    "    # C=1000 → 正則化 lambda=0.0001\n",
    "    lr = LogisticRegression(C=1000.0, random_state=846)\n",
    "    lr.fit(X_train[trn_idx], Y_train[trn_idx])\n",
    "    \n",
    "    oof[val_idx] = lr.predict_proba(X_train[val_idx])\n",
    "    predictions[fold_] = lr.predict_proba(X_test)"
   ]
  },
  {
   "cell_type": "code",
   "execution_count": 10,
   "metadata": {},
   "outputs": [
    {
     "data": {
      "text/plain": [
       "0.9666666666666667"
      ]
     },
     "execution_count": 10,
     "metadata": {},
     "output_type": "execute_result"
    }
   ],
   "source": [
    "pred = np.argmax(np.mean(predictions, axis=0), axis=1)\n",
    "(Y_test == pred).sum() / len(Y_test)"
   ]
  },
  {
   "cell_type": "code",
   "execution_count": 11,
   "metadata": {},
   "outputs": [
    {
     "data": {
      "text/plain": [
       "array([[[2.26505465e-11, 2.64325316e-01, 7.35674684e-01],\n",
       "        [2.66505810e-04, 9.74603169e-01, 2.51303251e-02],\n",
       "        [1.95687008e-10, 4.61140464e-01, 5.38859536e-01],\n",
       "        [7.66346841e-03, 9.92334341e-01, 2.19091215e-06],\n",
       "        [4.84087662e-04, 9.99400526e-01, 1.15386782e-04],\n",
       "        [7.04275957e-09, 3.55306520e-01, 6.44693473e-01],\n",
       "        [8.98805140e-01, 1.01194860e-01, 4.56811608e-21],\n",
       "        [8.17113056e-01, 1.82886944e-01, 1.94229845e-20],\n",
       "        [9.07933753e-01, 9.20662467e-02, 5.35050591e-21],\n",
       "        [2.04803546e-09, 5.36145174e-02, 9.46385481e-01],\n",
       "        [1.06449445e-04, 9.99630588e-01, 2.62962204e-04],\n",
       "        [2.06060183e-04, 9.97735055e-01, 2.05888530e-03],\n",
       "        [4.28720615e-09, 9.60216293e-02, 9.03978366e-01],\n",
       "        [3.07819128e-05, 9.89983199e-01, 9.98601861e-03],\n",
       "        [1.18504486e-09, 9.98649909e-02, 9.00135008e-01],\n",
       "        [7.04678509e-10, 2.53344496e-01, 7.46655503e-01],\n",
       "        [9.16975659e-01, 8.30243412e-02, 2.02984983e-21],\n",
       "        [9.25962631e-01, 7.40373690e-02, 2.87447468e-21],\n",
       "        [7.43234294e-05, 9.99867638e-01, 5.80387732e-05],\n",
       "        [9.50622150e-01, 4.93778498e-02, 1.24946155e-21],\n",
       "        [1.06282262e-05, 9.99685958e-01, 3.03413954e-04],\n",
       "        [9.90879603e-05, 9.99742507e-01, 1.58405418e-04],\n",
       "        [4.00120847e-09, 1.01443986e-01, 8.98556010e-01],\n",
       "        [9.53272021e-01, 4.67279787e-02, 8.21167222e-22],\n",
       "        [1.50766243e-06, 3.93000462e-01, 6.06998030e-01],\n",
       "        [2.18924394e-08, 1.49007175e-01, 8.50992803e-01],\n",
       "        [3.46307022e-04, 9.98453200e-01, 1.20049249e-03],\n",
       "        [1.09052609e-04, 9.99877018e-01, 1.39298072e-05],\n",
       "        [3.69498031e-08, 3.24951461e-01, 6.75048502e-01],\n",
       "        [5.16704889e-09, 3.47754017e-01, 6.52245978e-01]],\n",
       "\n",
       "       [[4.68369786e-10, 1.51304741e-01, 8.48695258e-01],\n",
       "        [4.32022954e-04, 9.99564450e-01, 3.52698632e-06],\n",
       "        [7.85497442e-10, 4.52840451e-01, 5.47159548e-01],\n",
       "        [5.94141668e-03, 9.94058583e-01, 8.41357968e-12],\n",
       "        [6.68402592e-04, 9.99331597e-01, 6.00195276e-10],\n",
       "        [1.59618465e-07, 2.80434872e-01, 7.19564968e-01],\n",
       "        [8.86091876e-01, 1.13908124e-01, 1.16189299e-40],\n",
       "        [7.86303277e-01, 2.13696723e-01, 4.90683303e-39],\n",
       "        [9.02121396e-01, 9.78786044e-02, 7.47360504e-41],\n",
       "        [3.46887358e-08, 4.62631582e-02, 9.53736807e-01],\n",
       "        [9.76817809e-05, 9.99902312e-01, 5.90876186e-09],\n",
       "        [1.13807745e-03, 9.98860892e-01, 1.03102670e-06],\n",
       "        [1.22112814e-08, 1.42116672e-01, 8.57883316e-01],\n",
       "        [6.63655446e-05, 9.99914621e-01, 1.90137947e-05],\n",
       "        [1.26975503e-08, 8.60630552e-02, 9.13936932e-01],\n",
       "        [3.80212473e-09, 2.60360165e-01, 7.39639831e-01],\n",
       "        [9.18663721e-01, 8.13362793e-02, 3.63417157e-41],\n",
       "        [9.26960529e-01, 7.30394709e-02, 2.19620936e-41],\n",
       "        [1.86499027e-04, 9.99813499e-01, 2.26120629e-09],\n",
       "        [9.44635244e-01, 5.53647562e-02, 2.46801103e-42],\n",
       "        [3.92451757e-06, 9.99995907e-01, 1.68935193e-07],\n",
       "        [5.42135122e-04, 9.99457828e-01, 3.66704439e-08],\n",
       "        [2.53348678e-08, 8.21480509e-02, 9.17851924e-01],\n",
       "        [9.61042140e-01, 3.89578605e-02, 1.86232145e-42],\n",
       "        [1.01948685e-06, 5.31847023e-01, 4.68151957e-01],\n",
       "        [3.72702293e-07, 1.25622951e-01, 8.74376676e-01],\n",
       "        [6.50252666e-04, 9.99349027e-01, 7.20337312e-07],\n",
       "        [8.08054726e-05, 9.99919194e-01, 1.03333629e-10],\n",
       "        [2.78664882e-07, 3.08397233e-01, 6.91602488e-01],\n",
       "        [1.79618327e-08, 3.43150919e-01, 6.56849063e-01]],\n",
       "\n",
       "       [[1.48350233e-11, 1.41449712e-01, 8.58550288e-01],\n",
       "        [7.60986456e-05, 3.13860720e-01, 6.86063181e-01],\n",
       "        [1.25109342e-10, 4.36450611e-01, 5.63549389e-01],\n",
       "        [5.39802472e-03, 9.94601965e-01, 1.01110545e-08],\n",
       "        [4.57593247e-04, 9.99494644e-01, 4.77631075e-05],\n",
       "        [7.63092057e-09, 1.68752208e-01, 8.31247784e-01],\n",
       "        [9.15211089e-01, 8.47889114e-02, 1.48539009e-30],\n",
       "        [7.99202427e-01, 2.00797573e-01, 6.64329689e-30],\n",
       "        [9.34726764e-01, 6.52732363e-02, 2.31211078e-30],\n",
       "        [9.11291897e-10, 2.59494681e-02, 9.74050531e-01],\n",
       "        [7.79114818e-05, 9.99794656e-01, 1.27432405e-04],\n",
       "        [3.35851157e-04, 9.99442890e-01, 2.21258634e-04],\n",
       "        [1.37328899e-09, 1.13688005e-01, 8.86311993e-01],\n",
       "        [2.78692000e-05, 9.90938900e-01, 9.03323126e-03],\n",
       "        [5.37800443e-10, 6.06917405e-02, 9.39308259e-01],\n",
       "        [3.35470440e-10, 2.08575056e-01, 7.91424944e-01],\n",
       "        [9.39841211e-01, 6.01587893e-02, 1.62788707e-31],\n",
       "        [9.54206436e-01, 4.57935638e-02, 6.95645015e-31],\n",
       "        [8.62350192e-05, 9.99913573e-01, 1.92346712e-07],\n",
       "        [9.70678261e-01, 2.93217392e-02, 8.49516025e-31],\n",
       "        [5.60059633e-06, 9.99974911e-01, 1.94881594e-05],\n",
       "        [1.60125313e-04, 9.99839559e-01, 3.15319599e-07],\n",
       "        [1.78233514e-09, 7.58308892e-02, 9.24169109e-01],\n",
       "        [9.78258974e-01, 2.17410260e-02, 6.19502087e-32],\n",
       "        [4.99700066e-07, 3.67272735e-01, 6.32726765e-01],\n",
       "        [1.46510479e-08, 5.93412312e-02, 9.40658754e-01],\n",
       "        [3.09378120e-04, 9.99444158e-01, 2.46463683e-04],\n",
       "        [8.02554191e-05, 9.99919618e-01, 1.26701126e-07],\n",
       "        [2.87532777e-08, 2.10459552e-01, 7.89540419e-01],\n",
       "        [2.94140452e-09, 3.07005139e-01, 6.92994858e-01]],\n",
       "\n",
       "       [[1.28530184e-11, 1.96078506e-01, 8.03921494e-01],\n",
       "        [3.42796153e-04, 9.99579782e-01, 7.74217156e-05],\n",
       "        [1.90601068e-10, 4.14172837e-01, 5.85827163e-01],\n",
       "        [5.99609729e-03, 9.94003901e-01, 1.41988910e-09],\n",
       "        [5.79146008e-04, 9.99420477e-01, 3.76554176e-07],\n",
       "        [7.19419338e-09, 2.45736392e-01, 7.54263601e-01],\n",
       "        [8.84367888e-01, 1.15632112e-01, 3.10888730e-31],\n",
       "        [8.03230304e-01, 1.96769696e-01, 1.46068729e-30],\n",
       "        [8.98386645e-01, 1.01613355e-01, 6.01820810e-31],\n",
       "        [1.15354845e-09, 5.96434329e-02, 9.40356566e-01],\n",
       "        [1.25660412e-04, 9.99873607e-01, 7.32331218e-07],\n",
       "        [2.03683328e-04, 9.98205508e-01, 1.59080839e-03],\n",
       "        [2.57830611e-09, 1.27791427e-01, 8.72208570e-01],\n",
       "        [3.28629858e-05, 9.98567550e-01, 1.39958707e-03],\n",
       "        [6.75884681e-10, 1.01242921e-01, 8.98757079e-01],\n",
       "        [5.21345330e-10, 2.25198443e-01, 7.74801557e-01],\n",
       "        [9.05264587e-01, 9.47354130e-02, 3.58879110e-31],\n",
       "        [9.17458858e-01, 8.25411422e-02, 4.64221317e-31],\n",
       "        [7.75319645e-05, 9.99907767e-01, 1.47009565e-05],\n",
       "        [9.38925378e-01, 6.10746221e-02, 4.27375574e-32],\n",
       "        [1.05913229e-05, 9.99988580e-01, 8.28350097e-07],\n",
       "        [9.52134635e-05, 9.99518292e-01, 3.86494447e-04],\n",
       "        [2.02984421e-09, 1.09782191e-01, 8.90217807e-01],\n",
       "        [9.46900492e-01, 5.30995080e-02, 2.73346202e-31],\n",
       "        [4.09854413e-06, 9.88562970e-01, 1.14329310e-02],\n",
       "        [1.71364076e-08, 1.17211259e-01, 8.82788724e-01],\n",
       "        [3.02506580e-04, 9.99654088e-01, 4.34053531e-05],\n",
       "        [1.16153487e-04, 9.99883791e-01, 5.52520546e-08],\n",
       "        [3.64031775e-08, 2.51945236e-01, 7.48054728e-01],\n",
       "        [4.26189622e-09, 2.99465260e-01, 7.00534735e-01]],\n",
       "\n",
       "       [[3.39369874e-11, 1.34247734e-01, 8.65752266e-01],\n",
       "        [1.23559904e-04, 9.97412899e-01, 2.46354107e-03],\n",
       "        [2.76830836e-10, 4.50613506e-01, 5.49386494e-01],\n",
       "        [5.84897966e-03, 9.94150698e-01, 3.21842741e-07],\n",
       "        [3.86742941e-04, 9.99592863e-01, 2.03939383e-05],\n",
       "        [1.14663780e-08, 3.08819305e-01, 6.91180684e-01],\n",
       "        [8.95894835e-01, 1.04105165e-01, 5.39480371e-23],\n",
       "        [8.11790539e-01, 1.88209461e-01, 2.42170859e-22],\n",
       "        [9.06038793e-01, 9.39612072e-02, 7.11681907e-23],\n",
       "        [1.05509311e-09, 3.47015641e-02, 9.65298435e-01],\n",
       "        [8.65032373e-05, 9.99867455e-01, 4.60413876e-05],\n",
       "        [2.65005814e-04, 9.98130450e-01, 1.60454401e-03],\n",
       "        [1.54256346e-09, 9.05210400e-02, 9.09478958e-01],\n",
       "        [2.82017993e-05, 9.95964009e-01, 4.00778970e-03],\n",
       "        [7.21119811e-10, 6.42642732e-02, 9.35735726e-01],\n",
       "        [4.95216577e-10, 2.23920086e-01, 7.76079914e-01],\n",
       "        [9.24504730e-01, 7.54952699e-02, 3.14973681e-23],\n",
       "        [9.28229990e-01, 7.17700101e-02, 4.21564972e-23],\n",
       "        [1.19597570e-04, 9.99834070e-01, 4.63326014e-05],\n",
       "        [9.45363563e-01, 5.46364369e-02, 1.17434872e-23],\n",
       "        [9.45643213e-06, 9.99929162e-01, 6.13813123e-05],\n",
       "        [2.01991795e-04, 9.99553643e-01, 2.44365102e-04],\n",
       "        [2.59778114e-09, 5.59912820e-02, 9.44008715e-01],\n",
       "        [9.59596949e-01, 4.04030506e-02, 1.45692931e-23],\n",
       "        [9.66984272e-07, 7.65232950e-01, 2.34766083e-01],\n",
       "        [1.73984781e-08, 1.22795579e-01, 8.77204404e-01],\n",
       "        [2.83167646e-04, 9.99355213e-01, 3.61619160e-04],\n",
       "        [1.19724490e-04, 9.99876621e-01, 3.65428705e-06],\n",
       "        [3.77030527e-08, 3.11643257e-01, 6.88356705e-01],\n",
       "        [4.85347756e-09, 3.19204894e-01, 6.80795102e-01]]])"
      ]
     },
     "execution_count": 11,
     "metadata": {},
     "output_type": "execute_result"
    }
   ],
   "source": [
    "predictions"
   ]
  },
  {
   "cell_type": "markdown",
   "metadata": {},
   "source": [
    "# SVM"
   ]
  },
  {
   "cell_type": "code",
   "execution_count": 12,
   "metadata": {},
   "outputs": [],
   "source": [
    "from sklearn.svm import SVC"
   ]
  },
  {
   "cell_type": "code",
   "execution_count": 13,
   "metadata": {},
   "outputs": [
    {
     "name": "stdout",
     "output_type": "stream",
     "text": [
      "Fold 0\n",
      "Fold 1\n",
      "Fold 2\n",
      "Fold 3\n",
      "Fold 4\n"
     ]
    }
   ],
   "source": [
    "oof = np.zeros((len(X_train), 3))\n",
    "predictions = np.zeros((5, len(X_test), 3))\n",
    "\n",
    "for fold_, (trn_idx, val_idx) in enumerate(kfold.split(X_train, X_train)):\n",
    "    print(\"Fold {}\".format(fold_))\n",
    "    # 線形: linear, or rbfとか\n",
    "    # probability=Trueをつけると，predict_probaが使える\n",
    "    model = SVC(kernel=\"linear\", C=1.0, random_state=863, probability=True)\n",
    "    model.fit(X_train[trn_idx], Y_train[trn_idx])\n",
    "    \n",
    "    oof[val_idx] = model.predict_proba(X_train[val_idx])\n",
    "    predictions[fold_] = model.predict_proba(X_test)"
   ]
  },
  {
   "cell_type": "code",
   "execution_count": 14,
   "metadata": {},
   "outputs": [
    {
     "data": {
      "text/plain": [
       "1.0"
      ]
     },
     "execution_count": 14,
     "metadata": {},
     "output_type": "execute_result"
    }
   ],
   "source": [
    "pred = np.argmax(np.mean(predictions, axis=0), axis=1)\n",
    "(Y_test == pred).sum() / len(Y_test)"
   ]
  },
  {
   "cell_type": "markdown",
   "metadata": {},
   "source": [
    "# Random Forest"
   ]
  },
  {
   "cell_type": "code",
   "execution_count": 15,
   "metadata": {},
   "outputs": [],
   "source": [
    "from sklearn.ensemble import RandomForestClassifier"
   ]
  },
  {
   "cell_type": "markdown",
   "metadata": {},
   "source": [
    "スケーリングしない"
   ]
  },
  {
   "cell_type": "code",
   "execution_count": 16,
   "metadata": {},
   "outputs": [],
   "source": [
    "X_train, X_test, Y_train, Y_test = train_test_split(iris_df[X_name].values, iris_df[Y_name].values,\n",
    "                                                   test_size=0.2, random_state=18461)"
   ]
  },
  {
   "cell_type": "code",
   "execution_count": 17,
   "metadata": {},
   "outputs": [
    {
     "name": "stdout",
     "output_type": "stream",
     "text": [
      "Fold 0\n",
      "Fold 1\n",
      "Fold 2\n",
      "Fold 3\n",
      "Fold 4\n"
     ]
    }
   ],
   "source": [
    "oof = np.zeros((len(X_train), 3))\n",
    "predictions = np.zeros((5, len(X_test), 3))\n",
    "\n",
    "for fold_, (trn_idx, val_idx) in enumerate(kfold.split(X_train, X_train)):\n",
    "    print(\"Fold {}\".format(fold_))\n",
    "    model = RandomForestClassifier(criterion=\"entropy\", n_estimators=10, random_state=1498, n_jobs=2)\n",
    "    model.fit(X_train[trn_idx], Y_train[trn_idx])\n",
    "    \n",
    "    oof[val_idx] = model.predict_proba(X_train[val_idx])\n",
    "    predictions[fold_] = model.predict_proba(X_test)"
   ]
  },
  {
   "cell_type": "code",
   "execution_count": 18,
   "metadata": {},
   "outputs": [
    {
     "data": {
      "text/plain": [
       "0.9666666666666667"
      ]
     },
     "execution_count": 18,
     "metadata": {},
     "output_type": "execute_result"
    }
   ],
   "source": [
    "pred = np.argmax(np.mean(predictions, axis=0), axis=1)\n",
    "(Y_test == pred).sum() / len(Y_test)"
   ]
  },
  {
   "cell_type": "code",
   "execution_count": 19,
   "metadata": {},
   "outputs": [
    {
     "data": {
      "text/plain": [
       "array([0.08060332, 0.00937198, 0.52115189, 0.38887281])"
      ]
     },
     "execution_count": 19,
     "metadata": {},
     "output_type": "execute_result"
    }
   ],
   "source": [
    "model.feature_importances_"
   ]
  },
  {
   "cell_type": "code",
   "execution_count": 20,
   "metadata": {},
   "outputs": [
    {
     "name": "stdout",
     "output_type": "stream",
     "text": [
      "petal length (cm): 0.5211518890037162\n",
      "petal width (cm): 0.38887281370159066\n",
      "sepal length (cm): 0.08060332045666928\n",
      "sepal width (cm): 0.00937197683802388\n"
     ]
    }
   ],
   "source": [
    "indices = np.argsort(model.feature_importances_)[::-1]\n",
    "for i in indices:\n",
    "    print(\"{}: {}\".format(X_name[i], model.feature_importances_[i]))"
   ]
  },
  {
   "cell_type": "code",
   "execution_count": null,
   "metadata": {},
   "outputs": [],
   "source": []
  }
 ],
 "metadata": {
  "kernelspec": {
   "display_name": "Python 3",
   "language": "python",
   "name": "python3"
  },
  "language_info": {
   "codemirror_mode": {
    "name": "ipython",
    "version": 3
   },
   "file_extension": ".py",
   "mimetype": "text/x-python",
   "name": "python",
   "nbconvert_exporter": "python",
   "pygments_lexer": "ipython3",
   "version": "3.6.8"
  }
 },
 "nbformat": 4,
 "nbformat_minor": 2
}
